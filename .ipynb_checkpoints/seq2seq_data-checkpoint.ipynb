{
 "cells": [
  {
   "cell_type": "code",
   "execution_count": 1,
   "metadata": {},
   "outputs": [
    {
     "data": {
      "text/plain": [
       "<module 'Model.Decoder' from '/media/yuhua/1863d8d5-bc6b-4e3e-b4c7-e9e1f87a42a1/KDD/Model/Decoder.py'>"
      ]
     },
     "execution_count": 1,
     "metadata": {},
     "output_type": "execute_result"
    }
   ],
   "source": [
    "from torch.utils.data import DataLoader\n",
    "from torch.autograd import Variable\n",
    "from Dataloader.Seq2Seq_DataLoader import DataTransformer\n",
    "import pandas as pd \n",
    "import numpy as np \n",
    "import torch\n",
    "import torch.nn as nn\n",
    "\n",
    "from Model import Encoder\n",
    "from Model import Decoder\n",
    "from Model import Seq2Seq\n",
    "# from  Model.Encoder import VanillaEncoder \n",
    "from importlib import reload\n",
    "\n",
    "reload(Encoder)\n",
    "reload(Decoder)\n",
    "\n",
    "\n"
   ]
  },
  {
   "cell_type": "code",
   "execution_count": 2,
   "metadata": {
    "collapsed": true
   },
   "outputs": [],
   "source": [
    "data_tran = DataTransformer(path = \"Data/beijing/beijing_2017_1_2018_3_aq.csv\",\n",
    "                                use_cuda = True)\n",
    "\n"
   ]
  },
  {
   "cell_type": "code",
   "execution_count": 3,
   "metadata": {},
   "outputs": [
    {
     "name": "stdout",
     "output_type": "stream",
     "text": [
      "torch.Size([240, 10, 6])\n",
      "torch.Size([48, 10, 6])\n"
     ]
    }
   ],
   "source": [
    "batch, label = next(data_tran.mini_batch_generator(data_tran.every_station_data[0]))\n",
    "     "
   ]
  },
  {
   "cell_type": "code",
   "execution_count": 4,
   "metadata": {
    "collapsed": true
   },
   "outputs": [],
   "source": [
    "Enc = Encoder.VanillaEncoder(hidden_size = 300,\n",
    "                             output_size = 6).cuda()"
   ]
  },
  {
   "cell_type": "code",
   "execution_count": 5,
   "metadata": {
    "collapsed": true
   },
   "outputs": [],
   "source": [
    "encoder_output, encoder_hidden, encoder_transform = Enc.forward(batch)"
   ]
  },
  {
   "cell_type": "code",
   "execution_count": 6,
   "metadata": {},
   "outputs": [
    {
     "name": "stdout",
     "output_type": "stream",
     "text": [
      "torch.Size([240, 10, 300])\n",
      "torch.Size([1, 10, 300])\n",
      "torch.Size([1, 10, 6])\n"
     ]
    }
   ],
   "source": [
    "print(encoder_output.size())\n",
    "print(encoder_hidden.size())\n",
    "print(encoder_transform.size())"
   ]
  },
  {
   "cell_type": "code",
   "execution_count": 48,
   "metadata": {},
   "outputs": [
    {
     "data": {
      "text/plain": [
       "<module 'Model.Decoder' from '/media/yuhua/1863d8d5-bc6b-4e3e-b4c7-e9e1f87a42a1/KDD/Model/Decoder.py'>"
      ]
     },
     "execution_count": 48,
     "metadata": {},
     "output_type": "execute_result"
    }
   ],
   "source": [
    "reload(Decoder)\n"
   ]
  },
  {
   "cell_type": "code",
   "execution_count": 49,
   "metadata": {
    "collapsed": true
   },
   "outputs": [],
   "source": [
    "Dec = Decoder.VanillaDecoder(input_size = 6,\n",
    "                             hidden_size = 300, \n",
    "                             output_size = 6,\n",
    "                             use_cuda = True).cuda()\n"
   ]
  },
  {
   "cell_type": "code",
   "execution_count": 50,
   "metadata": {},
   "outputs": [],
   "source": [
    "decoder_outputs, decoder_hidden = Dec.forward(context_vector=encoder_hidden, \n",
    "                                                       decoder_first_input=encoder_transform )\n"
   ]
  },
  {
   "cell_type": "code",
   "execution_count": 53,
   "metadata": {},
   "outputs": [
    {
     "name": "stdout",
     "output_type": "stream",
     "text": [
      "torch.Size([48, 10, 6])\n",
      "torch.Size([1, 10, 300])\n"
     ]
    }
   ],
   "source": []
  },
  {
   "cell_type": "code",
   "execution_count": null,
   "metadata": {
    "collapsed": true
   },
   "outputs": [],
   "source": []
  }
 ],
 "metadata": {
  "kernelspec": {
   "display_name": "Python 3",
   "language": "python",
   "name": "python3"
  },
  "language_info": {
   "codemirror_mode": {
    "name": "ipython",
    "version": 3
   },
   "file_extension": ".py",
   "mimetype": "text/x-python",
   "name": "python",
   "nbconvert_exporter": "python",
   "pygments_lexer": "ipython3",
   "version": "3.5.2"
  }
 },
 "nbformat": 4,
 "nbformat_minor": 2
}
