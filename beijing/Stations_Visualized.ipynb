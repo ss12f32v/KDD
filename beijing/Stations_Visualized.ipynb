{
 "cells": [
  {
   "cell_type": "code",
   "execution_count": 1,
   "metadata": {
    "collapsed": true
   },
   "outputs": [],
   "source": [
    "%load_ext autoreload\n",
    "%autoreload 2"
   ]
  },
  {
   "cell_type": "markdown",
   "metadata": {},
   "source": [
    "# Stations Visualized on the Map"
   ]
  },
  {
   "cell_type": "code",
   "execution_count": 2,
   "metadata": {
    "collapsed": true
   },
   "outputs": [],
   "source": [
    "from folium import Map, Popup\n",
    "from folium.map import Marker\n",
    "from folium.plugins import HeatMap\n",
    "import geopandas as gpd\n",
    "import matplotlib.pyplot as plt\n",
    "import numpy as np\n",
    "import pandas as pd\n",
    "from scipy.spatial.distance import squareform, pdist"
   ]
  },
  {
   "cell_type": "markdown",
   "metadata": {},
   "source": [
    "## Data"
   ]
  },
  {
   "cell_type": "markdown",
   "metadata": {},
   "source": [
    "### Particle Concentrations"
   ]
  },
  {
   "cell_type": "code",
   "execution_count": 3,
   "metadata": {},
   "outputs": [
    {
     "name": "stdout",
     "output_type": "stream",
     "text": [
      "Index duplicates: 6475\n"
     ]
    },
    {
     "data": {
      "text/html": [
       "<div>\n",
       "<style scoped>\n",
       "    .dataframe tbody tr th:only-of-type {\n",
       "        vertical-align: middle;\n",
       "    }\n",
       "\n",
       "    .dataframe tbody tr th {\n",
       "        vertical-align: top;\n",
       "    }\n",
       "\n",
       "    .dataframe thead th {\n",
       "        text-align: right;\n",
       "    }\n",
       "</style>\n",
       "<table border=\"1\" class=\"dataframe\">\n",
       "  <thead>\n",
       "    <tr style=\"text-align: right;\">\n",
       "      <th></th>\n",
       "      <th></th>\n",
       "      <th>PM2.5</th>\n",
       "      <th>PM10</th>\n",
       "      <th>NO2</th>\n",
       "      <th>CO</th>\n",
       "      <th>O3</th>\n",
       "      <th>SO2</th>\n",
       "      <th>station_type</th>\n",
       "    </tr>\n",
       "    <tr>\n",
       "      <th>station</th>\n",
       "      <th>datetime</th>\n",
       "      <th></th>\n",
       "      <th></th>\n",
       "      <th></th>\n",
       "      <th></th>\n",
       "      <th></th>\n",
       "      <th></th>\n",
       "      <th></th>\n",
       "    </tr>\n",
       "  </thead>\n",
       "  <tbody>\n",
       "    <tr>\n",
       "      <th>nongzhanguan</th>\n",
       "      <th>2017-10-25 11:00:00</th>\n",
       "      <td>127.0</td>\n",
       "      <td>NaN</td>\n",
       "      <td>98.0</td>\n",
       "      <td>1.4</td>\n",
       "      <td>2.0</td>\n",
       "      <td>2.0</td>\n",
       "      <td>aq</td>\n",
       "    </tr>\n",
       "    <tr>\n",
       "      <th>fengtaihuayuan</th>\n",
       "      <th>2017-11-18 19:00:00</th>\n",
       "      <td>83.0</td>\n",
       "      <td>166.0</td>\n",
       "      <td>77.0</td>\n",
       "      <td>1.3</td>\n",
       "      <td>4.0</td>\n",
       "      <td>21.0</td>\n",
       "      <td>aq</td>\n",
       "    </tr>\n",
       "    <tr>\n",
       "      <th>zhiwuyuan</th>\n",
       "      <th>2017-10-16 01:00:00</th>\n",
       "      <td>30.0</td>\n",
       "      <td>37.0</td>\n",
       "      <td>40.0</td>\n",
       "      <td>0.8</td>\n",
       "      <td>5.0</td>\n",
       "      <td>2.0</td>\n",
       "      <td>aq</td>\n",
       "    </tr>\n",
       "  </tbody>\n",
       "</table>\n",
       "</div>"
      ],
      "text/plain": [
       "                                    PM2.5   PM10   NO2   CO   O3   SO2  \\\n",
       "station        datetime                                                  \n",
       "nongzhanguan   2017-10-25 11:00:00  127.0    NaN  98.0  1.4  2.0   2.0   \n",
       "fengtaihuayuan 2017-11-18 19:00:00   83.0  166.0  77.0  1.3  4.0  21.0   \n",
       "zhiwuyuan      2017-10-16 01:00:00   30.0   37.0  40.0  0.8  5.0   2.0   \n",
       "\n",
       "                                   station_type  \n",
       "station        datetime                          \n",
       "nongzhanguan   2017-10-25 11:00:00           aq  \n",
       "fengtaihuayuan 2017-11-18 19:00:00           aq  \n",
       "zhiwuyuan      2017-10-16 01:00:00           aq  "
      ]
     },
     "execution_count": 3,
     "metadata": {},
     "output_type": "execute_result"
    }
   ],
   "source": [
    "concentrations = pd.read_csv('Data/beijing_17_18_aq.csv')\n",
    "concentrations['datetime'] = pd.to_datetime(concentrations['utc_time'])\n",
    "concentrations = concentrations.rename(columns={'stationId': 'station'}).drop('utc_time', axis=1)\n",
    "concentrations['station_type'] = concentrations['station'].apply(lambda s: s[s.find('_')+1:])\n",
    "concentrations['station'] = concentrations['station'].apply(lambda s: s[:s.find('_')])\n",
    "concentrations.set_index(['station', 'datetime'], inplace=True)\n",
    "dupes = concentrations[concentrations.index.duplicated()]\n",
    "print('Index duplicates: {}'.format(dupes.shape[0]))\n",
    "concentrations.drop(dupes.index, inplace=True)\n",
    "concentrations.sample(3)"
   ]
  },
  {
   "cell_type": "markdown",
   "metadata": {},
   "source": [
    "### Weather"
   ]
  },
  {
   "cell_type": "code",
   "execution_count": 4,
   "metadata": {},
   "outputs": [
    {
     "data": {
      "text/html": [
       "<div>\n",
       "<style scoped>\n",
       "    .dataframe tbody tr th:only-of-type {\n",
       "        vertical-align: middle;\n",
       "    }\n",
       "\n",
       "    .dataframe tbody tr th {\n",
       "        vertical-align: top;\n",
       "    }\n",
       "\n",
       "    .dataframe thead th {\n",
       "        text-align: right;\n",
       "    }\n",
       "</style>\n",
       "<table border=\"1\" class=\"dataframe\">\n",
       "  <thead>\n",
       "    <tr style=\"text-align: right;\">\n",
       "      <th></th>\n",
       "      <th></th>\n",
       "      <th>longitude</th>\n",
       "      <th>latitude</th>\n",
       "      <th>temperature</th>\n",
       "      <th>pressure</th>\n",
       "      <th>humidity</th>\n",
       "      <th>wind_direction</th>\n",
       "      <th>wind_speed</th>\n",
       "      <th>weather</th>\n",
       "      <th>station_type</th>\n",
       "    </tr>\n",
       "    <tr>\n",
       "      <th>station</th>\n",
       "      <th>datetime</th>\n",
       "      <th></th>\n",
       "      <th></th>\n",
       "      <th></th>\n",
       "      <th></th>\n",
       "      <th></th>\n",
       "      <th></th>\n",
       "      <th></th>\n",
       "      <th></th>\n",
       "      <th></th>\n",
       "    </tr>\n",
       "  </thead>\n",
       "  <tbody>\n",
       "    <tr>\n",
       "      <th>mentougou</th>\n",
       "      <th>2017-06-07 21:00:00</th>\n",
       "      <td>116.156389</td>\n",
       "      <td>39.887778</td>\n",
       "      <td>16.8</td>\n",
       "      <td>998.1</td>\n",
       "      <td>57</td>\n",
       "      <td>272.0</td>\n",
       "      <td>1.8</td>\n",
       "      <td>Sunny/clear</td>\n",
       "      <td>meo</td>\n",
       "    </tr>\n",
       "    <tr>\n",
       "      <th>fangshan</th>\n",
       "      <th>2017-09-25 13:00:00</th>\n",
       "      <td>116.194167</td>\n",
       "      <td>39.773056</td>\n",
       "      <td>22.6</td>\n",
       "      <td>1004.7</td>\n",
       "      <td>72</td>\n",
       "      <td>207.0</td>\n",
       "      <td>1.6</td>\n",
       "      <td>Haze</td>\n",
       "      <td>meo</td>\n",
       "    </tr>\n",
       "    <tr>\n",
       "      <th>mentougou</th>\n",
       "      <th>2017-02-11 06:00:00</th>\n",
       "      <td>116.156389</td>\n",
       "      <td>39.887778</td>\n",
       "      <td>8.3</td>\n",
       "      <td>1016.0</td>\n",
       "      <td>13</td>\n",
       "      <td>177.0</td>\n",
       "      <td>3.2</td>\n",
       "      <td>Sunny/clear</td>\n",
       "      <td>meo</td>\n",
       "    </tr>\n",
       "  </tbody>\n",
       "</table>\n",
       "</div>"
      ],
      "text/plain": [
       "                                longitude   latitude  temperature  pressure  \\\n",
       "station   datetime                                                            \n",
       "mentougou 2017-06-07 21:00:00  116.156389  39.887778         16.8     998.1   \n",
       "fangshan  2017-09-25 13:00:00  116.194167  39.773056         22.6    1004.7   \n",
       "mentougou 2017-02-11 06:00:00  116.156389  39.887778          8.3    1016.0   \n",
       "\n",
       "                               humidity  wind_direction  wind_speed  \\\n",
       "station   datetime                                                    \n",
       "mentougou 2017-06-07 21:00:00        57           272.0         1.8   \n",
       "fangshan  2017-09-25 13:00:00        72           207.0         1.6   \n",
       "mentougou 2017-02-11 06:00:00        13           177.0         3.2   \n",
       "\n",
       "                                   weather station_type  \n",
       "station   datetime                                       \n",
       "mentougou 2017-06-07 21:00:00  Sunny/clear          meo  \n",
       "fangshan  2017-09-25 13:00:00         Haze          meo  \n",
       "mentougou 2017-02-11 06:00:00  Sunny/clear          meo  "
      ]
     },
     "execution_count": 4,
     "metadata": {},
     "output_type": "execute_result"
    }
   ],
   "source": [
    "weather = pd.read_csv('Data/beijing_17_18_meo.csv')\n",
    "weather['datetime'] = pd.to_datetime(weather['utc_time'])\n",
    "weather = weather.rename(columns={'station_id': 'station'}).drop('utc_time', axis=1)\n",
    "weather['station_type'] = weather['station'].apply(lambda s: s[s.find('_')+1:])\n",
    "weather['station'] = weather['station'].apply(lambda s: s[:s.find('_')])\n",
    "weather.set_index(['station', 'datetime'], inplace=True)\n",
    "weather.sample(3)"
   ]
  },
  {
   "cell_type": "markdown",
   "metadata": {},
   "source": [
    "### Stations"
   ]
  },
  {
   "cell_type": "code",
   "execution_count": 8,
   "metadata": {},
   "outputs": [
    {
     "name": "stdout",
     "output_type": "stream",
     "text": [
      "(53, 4)\n"
     ]
    },
    {
     "data": {
      "text/html": [
       "<div>\n",
       "<style scoped>\n",
       "    .dataframe tbody tr th:only-of-type {\n",
       "        vertical-align: middle;\n",
       "    }\n",
       "\n",
       "    .dataframe tbody tr th {\n",
       "        vertical-align: top;\n",
       "    }\n",
       "\n",
       "    .dataframe thead th {\n",
       "        text-align: right;\n",
       "    }\n",
       "</style>\n",
       "<table border=\"1\" class=\"dataframe\">\n",
       "  <thead>\n",
       "    <tr style=\"text-align: right;\">\n",
       "      <th></th>\n",
       "      <th>longitude</th>\n",
       "      <th>latitude</th>\n",
       "      <th>location_type</th>\n",
       "      <th>station_type</th>\n",
       "    </tr>\n",
       "    <tr>\n",
       "      <th>station</th>\n",
       "      <th></th>\n",
       "      <th></th>\n",
       "      <th></th>\n",
       "      <th></th>\n",
       "    </tr>\n",
       "  </thead>\n",
       "  <tbody>\n",
       "    <tr>\n",
       "      <th>donsi</th>\n",
       "      <td>116.417</td>\n",
       "      <td>39.929</td>\n",
       "      <td>urban</td>\n",
       "      <td>aq</td>\n",
       "    </tr>\n",
       "    <tr>\n",
       "      <th>tiantan</th>\n",
       "      <td>116.407</td>\n",
       "      <td>39.886</td>\n",
       "      <td>urban</td>\n",
       "      <td>aq</td>\n",
       "    </tr>\n",
       "    <tr>\n",
       "      <th>guanyuan</th>\n",
       "      <td>116.339</td>\n",
       "      <td>39.929</td>\n",
       "      <td>urban</td>\n",
       "      <td>aq</td>\n",
       "    </tr>\n",
       "    <tr>\n",
       "      <th>wanshouxigon</th>\n",
       "      <td>116.352</td>\n",
       "      <td>39.878</td>\n",
       "      <td>urban</td>\n",
       "      <td>aq</td>\n",
       "    </tr>\n",
       "    <tr>\n",
       "      <th>aotizhongxin</th>\n",
       "      <td>116.397</td>\n",
       "      <td>39.982</td>\n",
       "      <td>urban</td>\n",
       "      <td>aq</td>\n",
       "    </tr>\n",
       "  </tbody>\n",
       "</table>\n",
       "</div>"
      ],
      "text/plain": [
       "              longitude  latitude location_type station_type\n",
       "station                                                     \n",
       "donsi           116.417    39.929         urban           aq\n",
       "tiantan         116.407    39.886         urban           aq\n",
       "guanyuan        116.339    39.929         urban           aq\n",
       "wanshouxigon    116.352    39.878         urban           aq\n",
       "aotizhongxin    116.397    39.982         urban           aq"
      ]
     },
     "execution_count": 8,
     "metadata": {},
     "output_type": "execute_result"
    }
   ],
   "source": [
    "stations = pd.read_csv('Data/processed_data/aq_station_info.csv')\n",
    "# stations = stations.rename(columns={'Station ID': 'station', 'Type': 'location_type'})\n",
    "# stations['latitude'] = stations['latitude'].apply(lambda l: float(l.replace(',', '.')))\n",
    "# stations['longitude'] = stations['longitude'].apply(lambda l: float(l.replace(',', '.')))\n",
    "# stations['station_type'] = stations['station'].apply(lambda s: s[s.find('_')+1:])\n",
    "stations['station'] = stations['station'].apply(lambda s: s[:s.find('_')])\n",
    "stations.set_index('station', inplace=True)\n",
    "print(stations.shape)\n",
    "stations.head()"
   ]
  },
  {
   "cell_type": "markdown",
   "metadata": {},
   "source": [
    "## Maps "
   ]
  },
  {
   "cell_type": "code",
   "execution_count": 16,
   "metadata": {},
   "outputs": [],
   "source": [
    "from map.maps import map_points, distance_on_sphere_numpy, plot_dist_stations"
   ]
  },
  {
   "cell_type": "markdown",
   "metadata": {},
   "source": [
    "### Airquality Stations"
   ]
  },
  {
   "cell_type": "code",
   "execution_count": 17,
   "metadata": {},
   "outputs": [
    {
     "data": {
      "text/html": [
       "<div style=\"width:100%;\"><div style=\"position:relative;width:100%;height:0;padding-bottom:60%;\"><iframe src=\"data:text/html;charset=utf-8;base64,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\" style=\"position:absolute;width:100%;height:100%;left:0;top:0;border:none !important;\" allowfullscreen webkitallowfullscreen mozallowfullscreen></iframe></div></div>"
      ],
      "text/plain": [
       "<folium.folium.Map at 0x7fa46ff6ac50>"
      ]
     },
     "execution_count": 17,
     "metadata": {},
     "output_type": "execute_result"
    }
   ],
   "source": [
    "map_points(stations.reset_index(), plot_points=True, zoom_start=9)"
   ]
  },
  {
   "cell_type": "markdown",
   "metadata": {},
   "source": [
    "We can group the stations by their location type and plot them all together."
   ]
  },
  {
   "cell_type": "code",
   "execution_count": null,
   "metadata": {
    "scrolled": false
   },
   "outputs": [],
   "source": [
    "from numpy import percentile\n",
    "\n",
    "\n",
    "for particle in concentrations.columns.tolist()[:-1]:\n",
    "    plt.figure(figsize=(20, 7))\n",
    "    for location_type in stations.location_type.unique():\n",
    "        group_stations = stations[stations.location_type == location_type].index.tolist()\n",
    "        group_summary = concentrations.loc[group_stations, particle].groupby('datetime').agg(['std', 'mean'])\n",
    "        plt.plot(group_summary['mean'], label=location_type)\n",
    "        plt.fill_between(group_summary['mean'].index,\n",
    "                         group_summary['mean'] - 2.575 * group_summary['std'],\n",
    "                         group_summary['mean'] + 2.575 * group_summary['std'],\n",
    "                 alpha=.2, label='99% confidence interval')\n",
    "        y_perc = 99.\n",
    "        plt.ylim([0, percentile((group_summary['std'] + group_summary['mean'] * 1.96).fillna(0), y_perc)])\n",
    "        plt.xlim(['2018-01', '2018-02'])\n",
    "        plt.legend()\n",
    "        plt.title(particle)\n",
    "    plt.show()"
   ]
  },
  {
   "cell_type": "markdown",
   "metadata": {},
   "source": [
    "### Weather Stations"
   ]
  },
  {
   "cell_type": "code",
   "execution_count": null,
   "metadata": {},
   "outputs": [],
   "source": [
    "map_points(weather.groupby('station').mean().reset_index(), plot_points=True, zoom_start=9)"
   ]
  },
  {
   "cell_type": "code",
   "execution_count": null,
   "metadata": {
    "collapsed": true
   },
   "outputs": [],
   "source": []
  },
  {
   "cell_type": "code",
   "execution_count": null,
   "metadata": {
    "collapsed": true
   },
   "outputs": [],
   "source": []
  }
 ],
 "metadata": {
  "kernelspec": {
   "display_name": "Python 3",
   "language": "python",
   "name": "python3"
  },
  "language_info": {
   "codemirror_mode": {
    "name": "ipython",
    "version": 3
   },
   "file_extension": ".py",
   "mimetype": "text/x-python",
   "name": "python",
   "nbconvert_exporter": "python",
   "pygments_lexer": "ipython3",
   "version": "3.5.2"
  }
 },
 "nbformat": 4,
 "nbformat_minor": 2
}
